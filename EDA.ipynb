{
 "cells": [
  {
   "cell_type": "code",
   "execution_count": 28,
   "metadata": {},
   "outputs": [],
   "source": [
    "import pandas as pd\n",
    "import numpy as np\n",
    "import zipfile\n",
    "pd.set_option('display.max_columns', None)"
   ]
  },
  {
   "cell_type": "code",
   "execution_count": 29,
   "metadata": {},
   "outputs": [],
   "source": [
    "zf = zipfile.ZipFile('data/data.zip')"
   ]
  },
  {
   "cell_type": "code",
   "execution_count": 30,
   "metadata": {},
   "outputs": [],
   "source": [
    "df = pd.read_json(zf.open('data.json'))"
   ]
  },
  {
   "cell_type": "code",
   "execution_count": 31,
   "metadata": {},
   "outputs": [
    {
     "data": {
      "text/plain": [
       "premium             12373\n",
       "fraudster_event       851\n",
       "fraudster             437\n",
       "spammer_limited       218\n",
       "spammer_warn          144\n",
       "tos_warn               91\n",
       "spammer_noinvite       84\n",
       "tos_lock               77\n",
       "locked                 54\n",
       "fraudster_att           5\n",
       "spammer_web             2\n",
       "spammer                 1\n",
       "Name: acct_type, dtype: int64"
      ]
     },
     "execution_count": 31,
     "metadata": {},
     "output_type": "execute_result"
    }
   ],
   "source": [
    "df['acct_type'].value_counts()"
   ]
  },
  {
   "cell_type": "code",
   "execution_count": 32,
   "metadata": {},
   "outputs": [],
   "source": [
    "df['fraud'] = df['acct_type'].apply(lambda x: True if 'fraud' in x else False)"
   ]
  },
  {
   "cell_type": "code",
   "execution_count": 33,
   "metadata": {},
   "outputs": [
    {
     "data": {
      "text/plain": [
       "False    13044\n",
       "True      1293\n",
       "Name: fraud, dtype: int64"
      ]
     },
     "execution_count": 33,
     "metadata": {},
     "output_type": "execute_result"
    }
   ],
   "source": [
    "df['fraud'].value_counts()"
   ]
  },
  {
   "cell_type": "code",
   "execution_count": 42,
   "metadata": {},
   "outputs": [
    {
     "data": {
      "text/plain": [
       "<AxesSubplot:>"
      ]
     },
     "execution_count": 42,
     "metadata": {},
     "output_type": "execute_result"
    },
    {
     "data": {
      "image/png": "[encoded data removed]",
      "text/plain": [
       "<Figure size 432x288 with 1 Axes>"
      ]
     },
     "metadata": {
      "needs_background": "light"
     },
     "output_type": "display_data"
    }
   ],
   "source": [
    "df['gts'][df['gts']<1000].hist(bins=25)"
   ]
  },
  {
   "cell_type": "code",
   "execution_count": 8,
   "metadata": {},
   "outputs": [
    {
     "name": "stdout",
     "output_type": "stream",
     "text": [
      "<class 'pandas.core.frame.DataFrame'>\n",
      "Int64Index: 1293 entries, 0 to 14336\n",
      "Data columns (total 45 columns):\n",
      " #   Column              Non-Null Count  Dtype  \n",
      "---  ------              --------------  -----  \n",
      " 0   acct_type           1293 non-null   object \n",
      " 1   approx_payout_date  1293 non-null   int64  \n",
      " 2   body_length         1293 non-null   int64  \n",
      " 3   channels            1293 non-null   int64  \n",
      " 4   country             1293 non-null   object \n",
      " 5   currency            1293 non-null   object \n",
      " 6   delivery_method     1281 non-null   float64\n",
      " 7   description         1293 non-null   object \n",
      " 8   email_domain        1293 non-null   object \n",
      " 9   event_created       1293 non-null   int64  \n",
      " 10  event_end           1293 non-null   int64  \n",
      " 11  event_published     1199 non-null   float64\n",
      " 12  event_start         1293 non-null   int64  \n",
      " 13  fb_published        1293 non-null   int64  \n",
      " 14  gts                 1293 non-null   float64\n",
      " 15  has_analytics       1293 non-null   int64  \n",
      " 16  has_header          519 non-null    float64\n",
      " 17  has_logo            1293 non-null   int64  \n",
      " 18  listed              1293 non-null   object \n",
      " 19  name                1293 non-null   object \n",
      " 20  name_length         1293 non-null   int64  \n",
      " 21  num_order           1293 non-null   int64  \n",
      " 22  num_payouts         1293 non-null   int64  \n",
      " 23  object_id           1293 non-null   int64  \n",
      " 24  org_desc            1293 non-null   object \n",
      " 25  org_facebook        1238 non-null   float64\n",
      " 26  org_name            1293 non-null   object \n",
      " 27  org_twitter         1238 non-null   float64\n",
      " 28  payee_name          1293 non-null   object \n",
      " 29  payout_type         1293 non-null   object \n",
      " 30  previous_payouts    1293 non-null   object \n",
      " 31  sale_duration       1175 non-null   float64\n",
      " 32  sale_duration2      1293 non-null   int64  \n",
      " 33  show_map            1293 non-null   int64  \n",
      " 34  ticket_types        1293 non-null   object \n",
      " 35  user_age            1293 non-null   int64  \n",
      " 36  user_created        1293 non-null   int64  \n",
      " 37  user_type           1293 non-null   int64  \n",
      " 38  venue_address       1293 non-null   object \n",
      " 39  venue_country       923 non-null    object \n",
      " 40  venue_latitude      923 non-null    float64\n",
      " 41  venue_longitude     923 non-null    float64\n",
      " 42  venue_name          923 non-null    object \n",
      " 43  venue_state         923 non-null    object \n",
      " 44  fraud               1293 non-null   bool   \n",
      "dtypes: bool(1), float64(9), int64(18), object(17)\n",
      "memory usage: 455.8+ KB\n"
     ]
    }
   ],
   "source": [
    "df[df['fraud']==True].info()"
   ]
  },
  {
   "cell_type": "code",
   "execution_count": 9,
   "metadata": {},
   "outputs": [],
   "source": [
    "drop_cols = ['has_header', \n",
    "             'venue_address',\n",
    "             'venue_country',\n",
    "             'venue_latitude',\n",
    "             'venue_longitude',\n",
    "             'venue_name',\n",
    "             'venue_state',\n",
    "             'sale_duration']\n",
    "for col in drop_cols:\n",
    "    try:\n",
    "        df.pop(col)\n",
    "    except:\n",
    "        continue\n",
    "\n",
    "look_later = ['acct_type',\n",
    "              'description',\n",
    "              'name',\n",
    "              'org_desc',\n",
    "              'org_name',\n",
    "              'payee_name',\n",
    "              'previous_payouts',\n",
    "              'ticket_types', # grab cost out of ticket types\n",
    "              'user_created',\n",
    "              'email_domain'] # maybe create dummies for anonymous email domains\n",
    "for col in look_later:\n",
    "    try:\n",
    "        df.pop(col)\n",
    "    except:\n",
    "        continue\n",
    "\n",
    "\n",
    "df.dropna(inplace=True)"
   ]
  },
  {
   "cell_type": "code",
   "execution_count": 10,
   "metadata": {},
   "outputs": [],
   "source": [
    "df['listed'] = df['listed'].apply(lambda x: 1 if 'y' else 0)\n"
   ]
  },
  {
   "cell_type": "code",
   "execution_count": 11,
   "metadata": {},
   "outputs": [],
   "source": [
    "dummies = ['country',\n",
    "           'currency',\n",
    "           'payout_type']\n"
   ]
  },
  {
   "cell_type": "code",
   "execution_count": 12,
   "metadata": {},
   "outputs": [],
   "source": [
    "df_analysis = pd.get_dummies(df, prefix_sep='_')"
   ]
  },
  {
   "cell_type": "code",
   "execution_count": 13,
   "metadata": {},
   "outputs": [
    {
     "data": {
      "text/html": [
       "<div>\n",
       "<style scoped>\n",
       "    .dataframe tbody tr th:only-of-type {\n",
       "        vertical-align: middle;\n",
       "    }\n",
       "\n",
       "    .dataframe tbody tr th {\n",
       "        vertical-align: top;\n",
       "    }\n",
       "\n",
       "    .dataframe thead th {\n",
       "        text-align: right;\n",
       "    }\n",
       "</style>\n",
       "<table border=\"1\" class=\"dataframe\">\n",
       "  <thead>\n",
       "    <tr style=\"text-align: right;\">\n",
       "      <th></th>\n",
       "      <th>approx_payout_date</th>\n",
       "      <th>body_length</th>\n",
       "      <th>channels</th>\n",
       "      <th>country</th>\n",
       "      <th>currency</th>\n",
       "      <th>delivery_method</th>\n",
       "      <th>event_created</th>\n",
       "      <th>event_end</th>\n",
       "      <th>event_published</th>\n",
       "      <th>event_start</th>\n",
       "      <th>fb_published</th>\n",
       "      <th>gts</th>\n",
       "      <th>has_analytics</th>\n",
       "      <th>has_logo</th>\n",
       "      <th>listed</th>\n",
       "      <th>name_length</th>\n",
       "      <th>num_order</th>\n",
       "      <th>num_payouts</th>\n",
       "      <th>object_id</th>\n",
       "      <th>org_facebook</th>\n",
       "      <th>org_twitter</th>\n",
       "      <th>payout_type</th>\n",
       "      <th>sale_duration2</th>\n",
       "      <th>show_map</th>\n",
       "      <th>user_age</th>\n",
       "      <th>user_type</th>\n",
       "      <th>fraud</th>\n",
       "    </tr>\n",
       "  </thead>\n",
       "  <tbody>\n",
       "    <tr>\n",
       "      <th>0</th>\n",
       "      <td>1266062400</td>\n",
       "      <td>3852</td>\n",
       "      <td>5</td>\n",
       "      <td>US</td>\n",
       "      <td>USD</td>\n",
       "      <td>0.0</td>\n",
       "      <td>1262739706</td>\n",
       "      <td>1265630400</td>\n",
       "      <td>1.263110e+09</td>\n",
       "      <td>1265594400</td>\n",
       "      <td>0</td>\n",
       "      <td>0.00</td>\n",
       "      <td>0</td>\n",
       "      <td>0</td>\n",
       "      <td>1</td>\n",
       "      <td>60</td>\n",
       "      <td>0</td>\n",
       "      <td>0</td>\n",
       "      <td>527017</td>\n",
       "      <td>0.0</td>\n",
       "      <td>0.0</td>\n",
       "      <td></td>\n",
       "      <td>33</td>\n",
       "      <td>1</td>\n",
       "      <td>36</td>\n",
       "      <td>1</td>\n",
       "      <td>True</td>\n",
       "    </tr>\n",
       "    <tr>\n",
       "      <th>1</th>\n",
       "      <td>1296720000</td>\n",
       "      <td>3499</td>\n",
       "      <td>0</td>\n",
       "      <td>US</td>\n",
       "      <td>USD</td>\n",
       "      <td>1.0</td>\n",
       "      <td>1293832670</td>\n",
       "      <td>1296288000</td>\n",
       "      <td>1.293833e+09</td>\n",
       "      <td>1296255600</td>\n",
       "      <td>0</td>\n",
       "      <td>868.02</td>\n",
       "      <td>0</td>\n",
       "      <td>1</td>\n",
       "      <td>1</td>\n",
       "      <td>27</td>\n",
       "      <td>23</td>\n",
       "      <td>1</td>\n",
       "      <td>786878</td>\n",
       "      <td>0.0</td>\n",
       "      <td>12.0</td>\n",
       "      <td>CHECK</td>\n",
       "      <td>28</td>\n",
       "      <td>0</td>\n",
       "      <td>149</td>\n",
       "      <td>3</td>\n",
       "      <td>False</td>\n",
       "    </tr>\n",
       "    <tr>\n",
       "      <th>2</th>\n",
       "      <td>1296172800</td>\n",
       "      <td>2601</td>\n",
       "      <td>8</td>\n",
       "      <td>US</td>\n",
       "      <td>USD</td>\n",
       "      <td>1.0</td>\n",
       "      <td>1291090956</td>\n",
       "      <td>1295740800</td>\n",
       "      <td>1.291092e+09</td>\n",
       "      <td>1295713800</td>\n",
       "      <td>0</td>\n",
       "      <td>3500.00</td>\n",
       "      <td>0</td>\n",
       "      <td>0</td>\n",
       "      <td>1</td>\n",
       "      <td>28</td>\n",
       "      <td>19</td>\n",
       "      <td>4</td>\n",
       "      <td>787337</td>\n",
       "      <td>0.0</td>\n",
       "      <td>0.0</td>\n",
       "      <td>CHECK</td>\n",
       "      <td>54</td>\n",
       "      <td>0</td>\n",
       "      <td>214</td>\n",
       "      <td>3</td>\n",
       "      <td>False</td>\n",
       "    </tr>\n",
       "    <tr>\n",
       "      <th>3</th>\n",
       "      <td>1388966400</td>\n",
       "      <td>12347</td>\n",
       "      <td>6</td>\n",
       "      <td>IE</td>\n",
       "      <td>EUR</td>\n",
       "      <td>1.0</td>\n",
       "      <td>1360681570</td>\n",
       "      <td>1388534400</td>\n",
       "      <td>1.360683e+09</td>\n",
       "      <td>1360702800</td>\n",
       "      <td>0</td>\n",
       "      <td>1167.35</td>\n",
       "      <td>0</td>\n",
       "      <td>1</td>\n",
       "      <td>1</td>\n",
       "      <td>21</td>\n",
       "      <td>39</td>\n",
       "      <td>16</td>\n",
       "      <td>885645</td>\n",
       "      <td>0.0</td>\n",
       "      <td>0.0</td>\n",
       "      <td>ACH</td>\n",
       "      <td>0</td>\n",
       "      <td>0</td>\n",
       "      <td>889</td>\n",
       "      <td>3</td>\n",
       "      <td>False</td>\n",
       "    </tr>\n",
       "    <tr>\n",
       "      <th>4</th>\n",
       "      <td>1297900800</td>\n",
       "      <td>2417</td>\n",
       "      <td>11</td>\n",
       "      <td>US</td>\n",
       "      <td>USD</td>\n",
       "      <td>0.0</td>\n",
       "      <td>1291994666</td>\n",
       "      <td>1297468800</td>\n",
       "      <td>1.291995e+09</td>\n",
       "      <td>1297440000</td>\n",
       "      <td>1</td>\n",
       "      <td>2313.15</td>\n",
       "      <td>0</td>\n",
       "      <td>0</td>\n",
       "      <td>1</td>\n",
       "      <td>66</td>\n",
       "      <td>30</td>\n",
       "      <td>0</td>\n",
       "      <td>1114349</td>\n",
       "      <td>0.0</td>\n",
       "      <td>0.0</td>\n",
       "      <td>CHECK</td>\n",
       "      <td>63</td>\n",
       "      <td>0</td>\n",
       "      <td>35</td>\n",
       "      <td>3</td>\n",
       "      <td>False</td>\n",
       "    </tr>\n",
       "    <tr>\n",
       "      <th>...</th>\n",
       "      <td>...</td>\n",
       "      <td>...</td>\n",
       "      <td>...</td>\n",
       "      <td>...</td>\n",
       "      <td>...</td>\n",
       "      <td>...</td>\n",
       "      <td>...</td>\n",
       "      <td>...</td>\n",
       "      <td>...</td>\n",
       "      <td>...</td>\n",
       "      <td>...</td>\n",
       "      <td>...</td>\n",
       "      <td>...</td>\n",
       "      <td>...</td>\n",
       "      <td>...</td>\n",
       "      <td>...</td>\n",
       "      <td>...</td>\n",
       "      <td>...</td>\n",
       "      <td>...</td>\n",
       "      <td>...</td>\n",
       "      <td>...</td>\n",
       "      <td>...</td>\n",
       "      <td>...</td>\n",
       "      <td>...</td>\n",
       "      <td>...</td>\n",
       "      <td>...</td>\n",
       "      <td>...</td>\n",
       "    </tr>\n",
       "    <tr>\n",
       "      <th>14332</th>\n",
       "      <td>1361689200</td>\n",
       "      <td>667</td>\n",
       "      <td>0</td>\n",
       "      <td>US</td>\n",
       "      <td>USD</td>\n",
       "      <td>0.0</td>\n",
       "      <td>1360297993</td>\n",
       "      <td>1361257200</td>\n",
       "      <td>1.360299e+09</td>\n",
       "      <td>1361232000</td>\n",
       "      <td>0</td>\n",
       "      <td>0.00</td>\n",
       "      <td>0</td>\n",
       "      <td>1</td>\n",
       "      <td>1</td>\n",
       "      <td>27</td>\n",
       "      <td>0</td>\n",
       "      <td>0</td>\n",
       "      <td>5456442</td>\n",
       "      <td>0.0</td>\n",
       "      <td>0.0</td>\n",
       "      <td></td>\n",
       "      <td>11</td>\n",
       "      <td>1</td>\n",
       "      <td>0</td>\n",
       "      <td>1</td>\n",
       "      <td>True</td>\n",
       "    </tr>\n",
       "    <tr>\n",
       "      <th>14333</th>\n",
       "      <td>1365566400</td>\n",
       "      <td>5812</td>\n",
       "      <td>5</td>\n",
       "      <td>US</td>\n",
       "      <td>USD</td>\n",
       "      <td>1.0</td>\n",
       "      <td>1360367042</td>\n",
       "      <td>1365134400</td>\n",
       "      <td>1.360370e+09</td>\n",
       "      <td>1365123600</td>\n",
       "      <td>0</td>\n",
       "      <td>9626.30</td>\n",
       "      <td>0</td>\n",
       "      <td>0</td>\n",
       "      <td>1</td>\n",
       "      <td>42</td>\n",
       "      <td>33</td>\n",
       "      <td>4</td>\n",
       "      <td>5465112</td>\n",
       "      <td>0.0</td>\n",
       "      <td>0.0</td>\n",
       "      <td>CHECK</td>\n",
       "      <td>55</td>\n",
       "      <td>1</td>\n",
       "      <td>1374</td>\n",
       "      <td>4</td>\n",
       "      <td>False</td>\n",
       "    </tr>\n",
       "    <tr>\n",
       "      <th>14334</th>\n",
       "      <td>1368781200</td>\n",
       "      <td>557</td>\n",
       "      <td>13</td>\n",
       "      <td></td>\n",
       "      <td>USD</td>\n",
       "      <td>0.0</td>\n",
       "      <td>1360600330</td>\n",
       "      <td>1368349200</td>\n",
       "      <td>1.361337e+09</td>\n",
       "      <td>1368327600</td>\n",
       "      <td>1</td>\n",
       "      <td>22.09</td>\n",
       "      <td>0</td>\n",
       "      <td>1</td>\n",
       "      <td>1</td>\n",
       "      <td>67</td>\n",
       "      <td>1</td>\n",
       "      <td>0</td>\n",
       "      <td>5465732</td>\n",
       "      <td>0.0</td>\n",
       "      <td>0.0</td>\n",
       "      <td>ACH</td>\n",
       "      <td>89</td>\n",
       "      <td>1</td>\n",
       "      <td>84</td>\n",
       "      <td>4</td>\n",
       "      <td>False</td>\n",
       "    </tr>\n",
       "    <tr>\n",
       "      <th>14335</th>\n",
       "      <td>1361361600</td>\n",
       "      <td>10873</td>\n",
       "      <td>8</td>\n",
       "      <td>US</td>\n",
       "      <td>USD</td>\n",
       "      <td>0.0</td>\n",
       "      <td>1360376285</td>\n",
       "      <td>1360929600</td>\n",
       "      <td>1.360377e+09</td>\n",
       "      <td>1360890000</td>\n",
       "      <td>0</td>\n",
       "      <td>170.00</td>\n",
       "      <td>0</td>\n",
       "      <td>1</td>\n",
       "      <td>1</td>\n",
       "      <td>54</td>\n",
       "      <td>2</td>\n",
       "      <td>101</td>\n",
       "      <td>5465810</td>\n",
       "      <td>0.0</td>\n",
       "      <td>0.0</td>\n",
       "      <td>ACH</td>\n",
       "      <td>6</td>\n",
       "      <td>1</td>\n",
       "      <td>812</td>\n",
       "      <td>3</td>\n",
       "      <td>False</td>\n",
       "    </tr>\n",
       "    <tr>\n",
       "      <th>14336</th>\n",
       "      <td>1363316400</td>\n",
       "      <td>0</td>\n",
       "      <td>0</td>\n",
       "      <td>GB</td>\n",
       "      <td>GBP</td>\n",
       "      <td>0.0</td>\n",
       "      <td>1360686846</td>\n",
       "      <td>1362888000</td>\n",
       "      <td>1.360687e+09</td>\n",
       "      <td>1360740600</td>\n",
       "      <td>0</td>\n",
       "      <td>901.04</td>\n",
       "      <td>0</td>\n",
       "      <td>1</td>\n",
       "      <td>1</td>\n",
       "      <td>11</td>\n",
       "      <td>2</td>\n",
       "      <td>0</td>\n",
       "      <td>5492990</td>\n",
       "      <td>0.0</td>\n",
       "      <td>0.0</td>\n",
       "      <td>ACH</td>\n",
       "      <td>0</td>\n",
       "      <td>1</td>\n",
       "      <td>0</td>\n",
       "      <td>1</td>\n",
       "      <td>True</td>\n",
       "    </tr>\n",
       "  </tbody>\n",
       "</table>\n",
       "<p>14104 rows × 27 columns</p>\n",
       "</div>"
      ],
      "text/plain": [
       "       approx_payout_date  body_length  channels country currency  \\\n",
       "0              1266062400         3852         5      US      USD   \n",
       "1              1296720000         3499         0      US      USD   \n",
       "2              1296172800         2601         8      US      USD   \n",
       "3              1388966400        12347         6      IE      EUR   \n",
       "4              1297900800         2417        11      US      USD   \n",
       "...                   ...          ...       ...     ...      ...   \n",
       "14332          1361689200          667         0      US      USD   \n",
       "14333          1365566400         5812         5      US      USD   \n",
       "14334          1368781200          557        13              USD   \n",
       "14335          1361361600        10873         8      US      USD   \n",
       "14336          1363316400            0         0      GB      GBP   \n",
       "\n",
       "       delivery_method  event_created   event_end  event_published  \\\n",
       "0                  0.0     1262739706  1265630400     1.263110e+09   \n",
       "1                  1.0     1293832670  1296288000     1.293833e+09   \n",
       "2                  1.0     1291090956  1295740800     1.291092e+09   \n",
       "3                  1.0     1360681570  1388534400     1.360683e+09   \n",
       "4                  0.0     1291994666  1297468800     1.291995e+09   \n",
       "...                ...            ...         ...              ...   \n",
       "14332              0.0     1360297993  1361257200     1.360299e+09   \n",
       "14333              1.0     1360367042  1365134400     1.360370e+09   \n",
       "14334              0.0     1360600330  1368349200     1.361337e+09   \n",
       "14335              0.0     1360376285  1360929600     1.360377e+09   \n",
       "14336              0.0     1360686846  1362888000     1.360687e+09   \n",
       "\n",
       "       event_start  fb_published      gts  has_analytics  has_logo  listed  \\\n",
       "0       1265594400             0     0.00              0         0       1   \n",
       "1       1296255600             0   868.02              0         1       1   \n",
       "2       1295713800             0  3500.00              0         0       1   \n",
       "3       1360702800             0  1167.35              0         1       1   \n",
       "4       1297440000             1  2313.15              0         0       1   \n",
       "...            ...           ...      ...            ...       ...     ...   \n",
       "14332   1361232000             0     0.00              0         1       1   \n",
       "14333   1365123600             0  9626.30              0         0       1   \n",
       "14334   1368327600             1    22.09              0         1       1   \n",
       "14335   1360890000             0   170.00              0         1       1   \n",
       "14336   1360740600             0   901.04              0         1       1   \n",
       "\n",
       "       name_length  num_order  num_payouts  object_id  org_facebook  \\\n",
       "0               60          0            0     527017           0.0   \n",
       "1               27         23            1     786878           0.0   \n",
       "2               28         19            4     787337           0.0   \n",
       "3               21         39           16     885645           0.0   \n",
       "4               66         30            0    1114349           0.0   \n",
       "...            ...        ...          ...        ...           ...   \n",
       "14332           27          0            0    5456442           0.0   \n",
       "14333           42         33            4    5465112           0.0   \n",
       "14334           67          1            0    5465732           0.0   \n",
       "14335           54          2          101    5465810           0.0   \n",
       "14336           11          2            0    5492990           0.0   \n",
       "\n",
       "       org_twitter payout_type  sale_duration2  show_map  user_age  user_type  \\\n",
       "0              0.0                          33         1        36          1   \n",
       "1             12.0       CHECK              28         0       149          3   \n",
       "2              0.0       CHECK              54         0       214          3   \n",
       "3              0.0         ACH               0         0       889          3   \n",
       "4              0.0       CHECK              63         0        35          3   \n",
       "...            ...         ...             ...       ...       ...        ...   \n",
       "14332          0.0                          11         1         0          1   \n",
       "14333          0.0       CHECK              55         1      1374          4   \n",
       "14334          0.0         ACH              89         1        84          4   \n",
       "14335          0.0         ACH               6         1       812          3   \n",
       "14336          0.0         ACH               0         1         0          1   \n",
       "\n",
       "       fraud  \n",
       "0       True  \n",
       "1      False  \n",
       "2      False  \n",
       "3      False  \n",
       "4      False  \n",
       "...      ...  \n",
       "14332   True  \n",
       "14333  False  \n",
       "14334  False  \n",
       "14335  False  \n",
       "14336   True  \n",
       "\n",
       "[14104 rows x 27 columns]"
      ]
     },
     "execution_count": 13,
     "metadata": {},
     "output_type": "execute_result"
    }
   ],
   "source": [
    "#  EDA vis ideas:\n",
    "#  prop fraud by payout type\n",
    "# \n",
    "\n",
    "df"
   ]
  },
  {
   "cell_type": "code",
   "execution_count": 15,
   "metadata": {},
   "outputs": [],
   "source": [
    "from sklearn.model_selection import train_test_split\n",
    "from sklearn.metrics import mean_squared_error, confusion_matrix, precision_score, recall_score, f1_score\n",
    "from sklearn.model_selection import cross_val_score\n",
    "from sklearn.tree import DecisionTreeClassifier\n",
    "from sklearn.ensemble import RandomForestClassifier, GradientBoostingClassifier\n",
    "from sklearn.model_selection import GridSearchCV"
   ]
  },
  {
   "cell_type": "code",
   "execution_count": 16,
   "metadata": {},
   "outputs": [],
   "source": [
    "y = df_analysis.pop('fraud')\n",
    "X = df_analysis.copy()"
   ]
  },
  {
   "cell_type": "code",
   "execution_count": 17,
   "metadata": {},
   "outputs": [],
   "source": [
    "X_train, X_test, y_train, y_test = train_test_split(X, y, test_size=.2, stratify=y, random_state=1)"
   ]
  },
  {
   "cell_type": "code",
   "execution_count": 18,
   "metadata": {},
   "outputs": [],
   "source": [
    "rf = RandomForestClassifier(random_state=0)\n",
    "rf.fit(X_train, y_train)\n",
    "y_predict = rf.predict(X_test)\n"
   ]
  },
  {
   "cell_type": "code",
   "execution_count": 19,
   "metadata": {},
   "outputs": [
    {
     "name": "stdout",
     "output_type": "stream",
     "text": [
      "F1: 0.8591885441527447\n",
      "precision: 0.9574468085106383\n",
      "recall: 0.7792207792207793\n"
     ]
    }
   ],
   "source": [
    "print(f\"F1: {f1_score(y_test, y_predict)}\")\n",
    "print(f\"precision: {precision_score(y_test, y_predict)}\")\n",
    "print(f\"recall: {recall_score(y_test, y_predict)}\")"
   ]
  },
  {
   "cell_type": "code",
   "execution_count": 20,
   "metadata": {},
   "outputs": [
    {
     "data": {
      "text/plain": [
       "array([[2582,    8],\n",
       "       [  51,  180]])"
      ]
     },
     "execution_count": 20,
     "metadata": {},
     "output_type": "execute_result"
    }
   ],
   "source": [
    "confusion_matrix(y_test, y_predict)"
   ]
  },
  {
   "cell_type": "code",
   "execution_count": 26,
   "metadata": {},
   "outputs": [
    {
     "name": "stdout",
     "output_type": "stream",
     "text": [
      "Feature ranking:\n",
      "1. sale_duration2 (0.197255)\n",
      "2. payout_type_ (0.085299)\n",
      "3. gts (0.080426)\n",
      "4. user_age (0.066338)\n",
      "5. num_order (0.048991)\n",
      "6. body_length (0.048699)\n",
      "7. user_type (0.042707)\n",
      "8. num_payouts (0.038710)\n",
      "9. object_id (0.034327)\n",
      "10. event_published (0.032719)\n"
     ]
    }
   ],
   "source": [
    "importances = rf.feature_importances_\n",
    "n=10\n",
    "indices = np.argsort(importances)[::-1]\n",
    "features = list(df_analysis.columns[indices])\n",
    "print(\"Feature ranking:\")\n",
    "for f in range(n):\n",
    "    print(\"%d. %s (%f)\" % (f + 1, features[f], importances[indices[f]]))"
   ]
  },
  {
   "cell_type": "code",
   "execution_count": null,
   "metadata": {},
   "outputs": [],
   "source": [
    "from src.helper_functions import gridsearch_with_output\n",
    "\n",
    "random_forest_grid = {'max_depth': [2, 4, None],\n",
    "                      'max_features': ['sqrt', 'log2', None],\n",
    "                      'min_samples_split': [2, 4],\n",
    "                      'min_samples_leaf': [1, 2, 4],\n",
    "                      'bootstrap': [True, False],\n",
    "                      'oob_score': [True, False],\n",
    "                      'n_estimators': [20, 30, 40, 50],\n",
    "                      'class_weight': ['balanced', None],\n",
    "                      'random_state': [1]\n",
    "                     }\n",
    "rf_best_params, rf_best_model, rf_best_score = gridsearch_with_output(RandomForestClassifier(), \n",
    "                                                                      random_forest_grid, \n",
    "                                                                      score,\n",
    "                                                                      X_train, y_train)"
   ]
  },
  {
   "cell_type": "code",
   "execution_count": 21,
   "metadata": {},
   "outputs": [],
   "source": [
    "gb = GradientBoostingClassifier(random_state=0)\n",
    "gb.fit(X_train, y_train)\n",
    "y_predict = gb.predict(X_test)"
   ]
  },
  {
   "cell_type": "code",
   "execution_count": 22,
   "metadata": {},
   "outputs": [
    {
     "name": "stdout",
     "output_type": "stream",
     "text": [
      "F1: 0.8631090487238979\n",
      "precision: 0.93\n",
      "recall: 0.8051948051948052\n"
     ]
    }
   ],
   "source": [
    "print(f\"F1: {f1_score(y_test, y_predict)}\")\n",
    "print(f\"precision: {precision_score(y_test, y_predict)}\")\n",
    "print(f\"recall: {recall_score(y_test, y_predict)}\")"
   ]
  },
  {
   "cell_type": "code",
   "execution_count": 23,
   "metadata": {},
   "outputs": [
    {
     "data": {
      "text/plain": [
       "array([[2576,   14],\n",
       "       [  45,  186]])"
      ]
     },
     "execution_count": 23,
     "metadata": {},
     "output_type": "execute_result"
    }
   ],
   "source": [
    "confusion_matrix(y_test, y_predict)"
   ]
  },
  {
   "cell_type": "code",
   "execution_count": 27,
   "metadata": {},
   "outputs": [
    {
     "name": "stdout",
     "output_type": "stream",
     "text": [
      "Feature ranking:\n",
      "1. sale_duration2 (0.346079)\n",
      "2. payout_type_ (0.258180)\n",
      "3. user_age (0.153201)\n",
      "4. gts (0.042097)\n",
      "5. num_payouts (0.039600)\n",
      "6. user_type (0.034774)\n",
      "7. org_twitter (0.024948)\n",
      "8. org_facebook (0.022073)\n",
      "9. payout_type_CHECK (0.009536)\n",
      "10. event_end (0.008555)\n"
     ]
    }
   ],
   "source": [
    "importances = gb.feature_importances_\n",
    "n=10\n",
    "indices = np.argsort(importances)[::-1]\n",
    "features = list(df_analysis.columns[indices])\n",
    "print(\"Feature ranking:\")\n",
    "for f in range(n):\n",
    "    print(\"%d. %s (%f)\" % (f + 1, features[f], importances[indices[f]]))"
   ]
  },
  {
   "cell_type": "code",
   "execution_count": null,
   "metadata": {},
   "outputs": [],
   "source": []
  }
 ],
 "metadata": {
  "kernelspec": {
   "display_name": "Python 3",
   "language": "python",
   "name": "python3"
  },
  "language_info": {
   "codemirror_mode": {
    "name": "ipython",
    "version": 3
   },
   "file_extension": ".py",
   "mimetype": "text/x-python",
   "name": "python",
   "nbconvert_exporter": "python",
   "pygments_lexer": "ipython3",
   "version": "3.7.9"
  }
 },
 "nbformat": 4,
 "nbformat_minor": 4
}
