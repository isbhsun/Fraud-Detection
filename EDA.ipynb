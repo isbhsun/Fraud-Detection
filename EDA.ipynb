{
 "cells": [
  {
   "cell_type": "code",
   "execution_count": 12,
   "metadata": {},
   "outputs": [],
   "source": [
    "import pandas as pd\n",
    "import numpy as np\n",
    "import zipfile\n",
    "pd.set_option('display.max_columns', None)"
   ]
  },
  {
   "cell_type": "code",
   "execution_count": 13,
   "metadata": {},
   "outputs": [],
   "source": [
    "zf = zipfile.ZipFile('data/data.zip')"
   ]
  },
  {
   "cell_type": "code",
   "execution_count": 14,
   "metadata": {},
   "outputs": [],
   "source": [
    "df = pd.read_json(zf.open('data.json'))"
   ]
  },
  {
   "cell_type": "code",
   "execution_count": 15,
   "metadata": {},
   "outputs": [
    {
     "data": {
      "text/plain": [
       "premium             12373\n",
       "fraudster_event       851\n",
       "fraudster             437\n",
       "spammer_limited       218\n",
       "spammer_warn          144\n",
       "tos_warn               91\n",
       "spammer_noinvite       84\n",
       "tos_lock               77\n",
       "locked                 54\n",
       "fraudster_att           5\n",
       "spammer_web             2\n",
       "spammer                 1\n",
       "Name: acct_type, dtype: int64"
      ]
     },
     "execution_count": 15,
     "metadata": {},
     "output_type": "execute_result"
    }
   ],
   "source": [
    "df['acct_type'].value_counts()"
   ]
  },
  {
   "cell_type": "code",
   "execution_count": 18,
   "metadata": {},
   "outputs": [],
   "source": [
    "df['fraud'] = df['acct_type'].apply(lambda x: True if 'fraud' in x else False)"
   ]
  },
  {
   "cell_type": "code",
   "execution_count": 19,
   "metadata": {},
   "outputs": [
    {
     "data": {
      "text/plain": [
       "False    13044\n",
       "True      1293\n",
       "Name: fraud, dtype: int64"
      ]
     },
     "execution_count": 19,
     "metadata": {},
     "output_type": "execute_result"
    }
   ],
   "source": [
    "df['fraud'].value_counts()"
   ]
  },
  {
   "cell_type": "code",
   "execution_count": 26,
   "metadata": {},
   "outputs": [
    {
     "name": "stdout",
     "output_type": "stream",
     "text": [
      "<class 'pandas.core.frame.DataFrame'>\n",
      "Int64Index: 1293 entries, 0 to 14336\n",
      "Data columns (total 45 columns):\n",
      " #   Column              Non-Null Count  Dtype  \n",
      "---  ------              --------------  -----  \n",
      " 0   acct_type           1293 non-null   object \n",
      " 1   approx_payout_date  1293 non-null   int64  \n",
      " 2   body_length         1293 non-null   int64  \n",
      " 3   channels            1293 non-null   int64  \n",
      " 4   country             1293 non-null   object \n",
      " 5   currency            1293 non-null   object \n",
      " 6   delivery_method     1281 non-null   float64\n",
      " 7   description         1293 non-null   object \n",
      " 8   email_domain        1293 non-null   object \n",
      " 9   event_created       1293 non-null   int64  \n",
      " 10  event_end           1293 non-null   int64  \n",
      " 11  event_published     1199 non-null   float64\n",
      " 12  event_start         1293 non-null   int64  \n",
      " 13  fb_published        1293 non-null   int64  \n",
      " 14  gts                 1293 non-null   float64\n",
      " 15  has_analytics       1293 non-null   int64  \n",
      " 16  has_header          519 non-null    float64\n",
      " 17  has_logo            1293 non-null   int64  \n",
      " 18  listed              1293 non-null   object \n",
      " 19  name                1293 non-null   object \n",
      " 20  name_length         1293 non-null   int64  \n",
      " 21  num_order           1293 non-null   int64  \n",
      " 22  num_payouts         1293 non-null   int64  \n",
      " 23  object_id           1293 non-null   int64  \n",
      " 24  org_desc            1293 non-null   object \n",
      " 25  org_facebook        1238 non-null   float64\n",
      " 26  org_name            1293 non-null   object \n",
      " 27  org_twitter         1238 non-null   float64\n",
      " 28  payee_name          1293 non-null   object \n",
      " 29  payout_type         1293 non-null   object \n",
      " 30  previous_payouts    1293 non-null   object \n",
      " 31  sale_duration       1175 non-null   float64\n",
      " 32  sale_duration2      1293 non-null   int64  \n",
      " 33  show_map            1293 non-null   int64  \n",
      " 34  ticket_types        1293 non-null   object \n",
      " 35  user_age            1293 non-null   int64  \n",
      " 36  user_created        1293 non-null   int64  \n",
      " 37  user_type           1293 non-null   int64  \n",
      " 38  venue_address       1293 non-null   object \n",
      " 39  venue_country       923 non-null    object \n",
      " 40  venue_latitude      923 non-null    float64\n",
      " 41  venue_longitude     923 non-null    float64\n",
      " 42  venue_name          923 non-null    object \n",
      " 43  venue_state         923 non-null    object \n",
      " 44  fraud               1293 non-null   bool   \n",
      "dtypes: bool(1), float64(9), int64(18), object(17)\n",
      "memory usage: 455.8+ KB\n"
     ]
    }
   ],
   "source": [
    "df[df['fraud']==True].info()"
   ]
  },
  {
   "cell_type": "code",
   "execution_count": 46,
   "metadata": {},
   "outputs": [],
   "source": [
    "drop_cols = ['has_header', \n",
    "             'venue_address',\n",
    "             'venue_country',\n",
    "             'venue_latitude',\n",
    "             'venue_longitude',\n",
    "             'venue_name',\n",
    "             'venue_state',\n",
    "             'sale_duration']\n",
    "for col in drop_cols:\n",
    "    try:\n",
    "        df.pop(col)\n",
    "    except:\n",
    "        continue\n",
    "\n",
    "look_later = ['acct_type',\n",
    "              'description',\n",
    "              'name',\n",
    "              'org_desc',\n",
    "              'org_name',\n",
    "              'payee_name',\n",
    "              'previous_payouts',\n",
    "              'ticket_types', # grab cost out of ticket types\n",
    "              'user_created',\n",
    "              'email_domain'] # maybe create dummies for anonymous email domains\n",
    "for col in look_later:\n",
    "    try:\n",
    "        df.pop(col)\n",
    "    except:\n",
    "        continue\n",
    "\n",
    "\n",
    "df.dropna(inplace=True)"
   ]
  },
  {
   "cell_type": "code",
   "execution_count": null,
   "metadata": {},
   "outputs": [],
   "source": [
    "df['listed'] = df['listed'].apply(lambda x: 1 if 'y' else 0)\n"
   ]
  },
  {
   "cell_type": "code",
   "execution_count": 45,
   "metadata": {},
   "outputs": [
    {
     "data": {
      "text/plain": [
       "gmail.com                   3046\n",
       "yahoo.com                    756\n",
       "hotmail.com                  391\n",
       "aol.com                      188\n",
       "live.com                      77\n",
       "me.com                        75\n",
       "ymail.com                     68\n",
       "comcast.net                   60\n",
       "generalassemb.ly              58\n",
       "kineticevents.com             51\n",
       "hotmail.co.uk                 47\n",
       "yahoo.co.uk                   47\n",
       "improvboston.com              46\n",
       "sippingnpainting.com          39\n",
       "claytonislandtours.com        37\n",
       "racetonowhere.com             35\n",
       "greatworldadventures.com      31\n",
       "live.fr                       30\n",
       "yahoo.ca                      30\n",
       "shaw.ca                       28\n",
       "Name: email_domain, dtype: int64"
      ]
     },
     "execution_count": 45,
     "metadata": {},
     "output_type": "execute_result"
    }
   ],
   "source": [
    "df['email_domain'].value_counts()[:20]"
   ]
  },
  {
   "cell_type": "code",
   "execution_count": 48,
   "metadata": {},
   "outputs": [],
   "source": [
    "dummies = ['country',\n",
    "           'currency',\n",
    "           'payout_type']\n"
   ]
  },
  {
   "cell_type": "code",
   "execution_count": 49,
   "metadata": {},
   "outputs": [
    {
     "name": "stdout",
     "output_type": "stream",
     "text": [
      "<class 'pandas.core.frame.DataFrame'>\n",
      "Int64Index: 14104 entries, 0 to 14336\n",
      "Data columns (total 27 columns):\n",
      " #   Column              Non-Null Count  Dtype  \n",
      "---  ------              --------------  -----  \n",
      " 0   approx_payout_date  14104 non-null  int64  \n",
      " 1   body_length         14104 non-null  int64  \n",
      " 2   channels            14104 non-null  int64  \n",
      " 3   country             14104 non-null  object \n",
      " 4   currency            14104 non-null  object \n",
      " 5   delivery_method     14104 non-null  float64\n",
      " 6   event_created       14104 non-null  int64  \n",
      " 7   event_end           14104 non-null  int64  \n",
      " 8   event_published     14104 non-null  float64\n",
      " 9   event_start         14104 non-null  int64  \n",
      " 10  fb_published        14104 non-null  int64  \n",
      " 11  gts                 14104 non-null  float64\n",
      " 12  has_analytics       14104 non-null  int64  \n",
      " 13  has_logo            14104 non-null  int64  \n",
      " 14  listed              14104 non-null  int64  \n",
      " 15  name_length         14104 non-null  int64  \n",
      " 16  num_order           14104 non-null  int64  \n",
      " 17  num_payouts         14104 non-null  int64  \n",
      " 18  object_id           14104 non-null  int64  \n",
      " 19  org_facebook        14104 non-null  float64\n",
      " 20  org_twitter         14104 non-null  float64\n",
      " 21  payout_type         14104 non-null  object \n",
      " 22  sale_duration2      14104 non-null  int64  \n",
      " 23  show_map            14104 non-null  int64  \n",
      " 24  user_age            14104 non-null  int64  \n",
      " 25  user_type           14104 non-null  int64  \n",
      " 26  fraud               14104 non-null  bool   \n",
      "dtypes: bool(1), float64(5), int64(18), object(3)\n",
      "memory usage: 2.9+ MB\n"
     ]
    }
   ],
   "source": [
    "df.info()"
   ]
  },
  {
   "cell_type": "code",
   "execution_count": null,
   "metadata": {},
   "outputs": [],
   "source": []
  }
 ],
 "metadata": {
  "kernelspec": {
   "display_name": "Python 3",
   "language": "python",
   "name": "python3"
  },
  "language_info": {
   "codemirror_mode": {
    "name": "ipython",
    "version": 3
   },
   "file_extension": ".py",
   "mimetype": "text/x-python",
   "name": "python",
   "nbconvert_exporter": "python",
   "pygments_lexer": "ipython3",
   "version": "3.7.9"
  }
 },
 "nbformat": 4,
 "nbformat_minor": 4
}
